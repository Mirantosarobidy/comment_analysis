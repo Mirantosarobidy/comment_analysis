{
 "cells": [
  {
   "cell_type": "code",
   "execution_count": 36,
   "id": "ae742819",
   "metadata": {},
   "outputs": [],
   "source": [
    "import pandas as pd\n",
    "import numpy as np\n",
    "import string\n",
    "import pickle\n",
    "\n",
    "#sklearn\n",
    "from sklearn.feature_extraction.text import TfidfVectorizer\n",
    "from sklearn.model_selection import train_test_split\n",
    "from sklearn.svm import LinearSVC\n",
    "from sklearn.neighbors import KNeighborsClassifier\n",
    "from sklearn.tree import DecisionTreeClassifier\n",
    "from sklearn.ensemble import RandomForestClassifier\n",
    "from sklearn.metrics import accuracy_score\n",
    "from sklearn.cluster import KMeans"
   ]
  },
  {
   "cell_type": "code",
   "execution_count": 3,
   "id": "8de48624",
   "metadata": {},
   "outputs": [
    {
     "data": {
      "text/html": [
       "<div>\n",
       "<style scoped>\n",
       "    .dataframe tbody tr th:only-of-type {\n",
       "        vertical-align: middle;\n",
       "    }\n",
       "\n",
       "    .dataframe tbody tr th {\n",
       "        vertical-align: top;\n",
       "    }\n",
       "\n",
       "    .dataframe thead th {\n",
       "        text-align: right;\n",
       "    }\n",
       "</style>\n",
       "<table border=\"1\" class=\"dataframe\">\n",
       "  <thead>\n",
       "    <tr style=\"text-align: right;\">\n",
       "      <th></th>\n",
       "      <th>Text</th>\n",
       "      <th>category</th>\n",
       "    </tr>\n",
       "  </thead>\n",
       "  <tbody>\n",
       "    <tr>\n",
       "      <th>0</th>\n",
       "      <td>modi promised minimum government maximum gover...</td>\n",
       "      <td>-1.0</td>\n",
       "    </tr>\n",
       "    <tr>\n",
       "      <th>1</th>\n",
       "      <td>talk nonsense continue drama vote modi</td>\n",
       "      <td>0.0</td>\n",
       "    </tr>\n",
       "    <tr>\n",
       "      <th>2</th>\n",
       "      <td>say vote modi welcome bjp told rahul main camp...</td>\n",
       "      <td>1.0</td>\n",
       "    </tr>\n",
       "    <tr>\n",
       "      <th>3</th>\n",
       "      <td>asking supporters prefix chowkidar names modi ...</td>\n",
       "      <td>1.0</td>\n",
       "    </tr>\n",
       "    <tr>\n",
       "      <th>4</th>\n",
       "      <td>answer among powerful world leader today trump...</td>\n",
       "      <td>1.0</td>\n",
       "    </tr>\n",
       "    <tr>\n",
       "      <th>...</th>\n",
       "      <td>...</td>\n",
       "      <td>...</td>\n",
       "    </tr>\n",
       "    <tr>\n",
       "      <th>162975</th>\n",
       "      <td>crores paid neerav modi recovered congress lea...</td>\n",
       "      <td>-1.0</td>\n",
       "    </tr>\n",
       "    <tr>\n",
       "      <th>162976</th>\n",
       "      <td>dear rss terrorist payal gawar modi killing pl...</td>\n",
       "      <td>-1.0</td>\n",
       "    </tr>\n",
       "    <tr>\n",
       "      <th>162977</th>\n",
       "      <td>cover interaction forum left</td>\n",
       "      <td>0.0</td>\n",
       "    </tr>\n",
       "    <tr>\n",
       "      <th>162978</th>\n",
       "      <td>big project came india modi dream project happ...</td>\n",
       "      <td>0.0</td>\n",
       "    </tr>\n",
       "    <tr>\n",
       "      <th>162979</th>\n",
       "      <td>ever listen like gurukul discipline maintained...</td>\n",
       "      <td>1.0</td>\n",
       "    </tr>\n",
       "  </tbody>\n",
       "</table>\n",
       "<p>162893 rows × 2 columns</p>\n",
       "</div>"
      ],
      "text/plain": [
       "                                                     Text  category\n",
       "0       modi promised minimum government maximum gover...      -1.0\n",
       "1                  talk nonsense continue drama vote modi       0.0\n",
       "2       say vote modi welcome bjp told rahul main camp...       1.0\n",
       "3       asking supporters prefix chowkidar names modi ...       1.0\n",
       "4       answer among powerful world leader today trump...       1.0\n",
       "...                                                   ...       ...\n",
       "162975  crores paid neerav modi recovered congress lea...      -1.0\n",
       "162976  dear rss terrorist payal gawar modi killing pl...      -1.0\n",
       "162977                       cover interaction forum left       0.0\n",
       "162978  big project came india modi dream project happ...       0.0\n",
       "162979  ever listen like gurukul discipline maintained...       1.0\n",
       "\n",
       "[162893 rows x 2 columns]"
      ]
     },
     "execution_count": 3,
     "metadata": {},
     "output_type": "execute_result"
    }
   ],
   "source": [
    "dataset = pd.read_csv('data.csv')\n",
    "dataset = dataset.dropna()\n",
    "dataset"
   ]
  },
  {
   "cell_type": "markdown",
   "id": "2e1e52e4",
   "metadata": {},
   "source": [
    "# Training data"
   ]
  },
  {
   "cell_type": "code",
   "execution_count": 5,
   "id": "a11288b0",
   "metadata": {},
   "outputs": [],
   "source": [
    "X = dataset['Text']\n",
    "y = dataset['category']"
   ]
  },
  {
   "cell_type": "code",
   "execution_count": 6,
   "id": "e88ec439",
   "metadata": {},
   "outputs": [],
   "source": [
    "#tfidfVectorizer\n",
    "vectorizer = TfidfVectorizer()\n",
    "X_tfidf = vectorizer.fit_transform(X)"
   ]
  },
  {
   "cell_type": "code",
   "execution_count": 7,
   "id": "e9397d6b",
   "metadata": {},
   "outputs": [],
   "source": [
    "X_train, X_test, y_train, y_test = train_test_split(X_tfidf, y, test_size = 0.2, random_state=42)"
   ]
  },
  {
   "cell_type": "code",
   "execution_count": 8,
   "id": "96d9a3e6",
   "metadata": {},
   "outputs": [
    {
     "data": {
      "text/plain": [
       "array(['aa', 'aaa', 'aaaa', ..., 'zyadamodi', 'zyonist', 'zzz'],\n",
       "      dtype=object)"
      ]
     },
     "execution_count": 8,
     "metadata": {},
     "output_type": "execute_result"
    }
   ],
   "source": [
    "features = vectorizer.get_feature_names_out()\n",
    "features"
   ]
  },
  {
   "cell_type": "markdown",
   "id": "c53ea5b7",
   "metadata": {},
   "source": [
    "# RandomForestClassifier"
   ]
  },
  {
   "cell_type": "code",
   "execution_count": 9,
   "id": "051b1c04",
   "metadata": {},
   "outputs": [],
   "source": [
    "rfc = RandomForestClassifier(n_estimators=10).fit(X_train, y_train)"
   ]
  },
  {
   "cell_type": "code",
   "execution_count": 10,
   "id": "35cf546d",
   "metadata": {},
   "outputs": [],
   "source": [
    "rfc_pred = rfc.predict(X_test)"
   ]
  },
  {
   "cell_type": "code",
   "execution_count": 11,
   "id": "b8cf2e94",
   "metadata": {},
   "outputs": [
    {
     "name": "stdout",
     "output_type": "stream",
     "text": [
      "Accuracy of model :  0.8071457073575002\n",
      "Error rate of the RandomForest 0.19285429264249976\n"
     ]
    }
   ],
   "source": [
    "print(\"Accuracy of model : \", accuracy_score(y_test, rfc_pred))\n",
    "#Error rate\n",
    "print(\"Error rate of the RandomForest\", 1 - accuracy_score(y_test, rfc_pred))"
   ]
  },
  {
   "cell_type": "markdown",
   "id": "b29f7cb6",
   "metadata": {},
   "source": [
    "# LinearSVC"
   ]
  },
  {
   "cell_type": "code",
   "execution_count": 12,
   "id": "2710403c",
   "metadata": {},
   "outputs": [],
   "source": [
    "clf = LinearSVC(random_state=42).fit(X_train, y_train)"
   ]
  },
  {
   "cell_type": "code",
   "execution_count": 13,
   "id": "40eb7488",
   "metadata": {},
   "outputs": [],
   "source": [
    "y_svm = clf.predict(X_test)"
   ]
  },
  {
   "cell_type": "code",
   "execution_count": 14,
   "id": "1f0bda74",
   "metadata": {},
   "outputs": [
    {
     "name": "stdout",
     "output_type": "stream",
     "text": [
      "Accuracy of model :  0.8993523435341785\n",
      "Error rate of the RandomForest 0.10064765646582152\n"
     ]
    }
   ],
   "source": [
    "print(\"Accuracy of model : \", accuracy_score(y_test, y_svm))\n",
    "#Error rate\n",
    "print(\"Error rate of the RandomForest\", 1 - accuracy_score(y_test, y_svm))"
   ]
  },
  {
   "cell_type": "markdown",
   "id": "9650d895",
   "metadata": {},
   "source": [
    "# DecisionTreeClassifier"
   ]
  },
  {
   "cell_type": "code",
   "execution_count": 20,
   "id": "b314bd20",
   "metadata": {},
   "outputs": [],
   "source": [
    "dtree = DecisionTreeClassifier(max_depth=10, random_state = 42, \n",
    "                              max_features=None, min_samples_leaf = 30).fit(X_train, y_train)"
   ]
  },
  {
   "cell_type": "code",
   "execution_count": 18,
   "id": "e645b905",
   "metadata": {},
   "outputs": [],
   "source": [
    "dtree_pred = dtree.predict(X_test)"
   ]
  },
  {
   "cell_type": "code",
   "execution_count": 21,
   "id": "8c22e94f",
   "metadata": {},
   "outputs": [
    {
     "name": "stdout",
     "output_type": "stream",
     "text": [
      "Accuracy of model :  0.5411461370821695\n",
      "Error rate of the RandomForest 0.4588538629178305\n"
     ]
    }
   ],
   "source": [
    "print(\"Accuracy of model : \", accuracy_score(y_test, dtree_pred))\n",
    "#Error rate\n",
    "print(\"Error rate of the RandomForest\", 1 - accuracy_score(y_test, dtree_pred))"
   ]
  },
  {
   "cell_type": "markdown",
   "id": "a0832a99",
   "metadata": {},
   "source": [
    "# LogisticRegression"
   ]
  },
  {
   "cell_type": "code",
   "execution_count": 22,
   "id": "8814c213",
   "metadata": {},
   "outputs": [],
   "source": [
    "from sklearn.linear_model import LogisticRegression"
   ]
  },
  {
   "cell_type": "code",
   "execution_count": 23,
   "id": "72272bcd",
   "metadata": {},
   "outputs": [],
   "source": [
    "model = LogisticRegression()"
   ]
  },
  {
   "cell_type": "code",
   "execution_count": 24,
   "id": "607e4ceb",
   "metadata": {},
   "outputs": [
    {
     "name": "stderr",
     "output_type": "stream",
     "text": [
      "/home/ranto/anaconda3/lib/python3.9/site-packages/sklearn/linear_model/_logistic.py:814: ConvergenceWarning: lbfgs failed to converge (status=1):\n",
      "STOP: TOTAL NO. of ITERATIONS REACHED LIMIT.\n",
      "\n",
      "Increase the number of iterations (max_iter) or scale the data as shown in:\n",
      "    https://scikit-learn.org/stable/modules/preprocessing.html\n",
      "Please also refer to the documentation for alternative solver options:\n",
      "    https://scikit-learn.org/stable/modules/linear_model.html#logistic-regression\n",
      "  n_iter_i = _check_optimize_result(\n"
     ]
    },
    {
     "data": {
      "text/plain": [
       "LogisticRegression()"
      ]
     },
     "execution_count": 24,
     "metadata": {},
     "output_type": "execute_result"
    }
   ],
   "source": [
    "model.fit(X_train, y_train)"
   ]
  },
  {
   "cell_type": "code",
   "execution_count": 25,
   "id": "f6a34a6d",
   "metadata": {},
   "outputs": [
    {
     "data": {
      "text/plain": [
       "0.9157112819804473"
      ]
     },
     "execution_count": 25,
     "metadata": {},
     "output_type": "execute_result"
    }
   ],
   "source": [
    "model.score(X_train, y_train)"
   ]
  },
  {
   "cell_type": "code",
   "execution_count": 26,
   "id": "ec59c8ac",
   "metadata": {},
   "outputs": [],
   "source": [
    "y_pred = model.predict(X_test)"
   ]
  },
  {
   "cell_type": "code",
   "execution_count": 27,
   "id": "e6435ff5",
   "metadata": {},
   "outputs": [
    {
     "name": "stdout",
     "output_type": "stream",
     "text": [
      "Accuracy of model :  0.8825316921943583\n",
      "Error rate of the RandomForest 0.11746830780564166\n"
     ]
    }
   ],
   "source": [
    "print(\"Accuracy of model : \", accuracy_score(y_test, y_pred))\n",
    "#Error rate\n",
    "print(\"Error rate of the RandomForest\", 1 - accuracy_score(y_test, y_pred))"
   ]
  },
  {
   "cell_type": "markdown",
   "id": "28420737",
   "metadata": {},
   "source": [
    "# KMeans"
   ]
  },
  {
   "cell_type": "code",
   "execution_count": 33,
   "id": "2af8c08d",
   "metadata": {},
   "outputs": [],
   "source": [
    "kmeans = KMeans(n_clusters=10, random_state=0).fit(X_train)"
   ]
  },
  {
   "cell_type": "code",
   "execution_count": 34,
   "id": "47032f19",
   "metadata": {},
   "outputs": [],
   "source": [
    "y_kmeans = kmeans.predict(X_test)"
   ]
  },
  {
   "cell_type": "code",
   "execution_count": 35,
   "id": "88a1919c",
   "metadata": {},
   "outputs": [
    {
     "name": "stdout",
     "output_type": "stream",
     "text": [
      "Accuracy of model :  0.03784646551459529\n",
      "Error rate of the RandomForest 0.9621535344854047\n"
     ]
    }
   ],
   "source": [
    "print(\"Accuracy of model : \", accuracy_score(y_test, y_kmeans))\n",
    "#Error rate\n",
    "print(\"Error rate of the RandomForest\", 1 - accuracy_score(y_test, y_kmeans))"
   ]
  },
  {
   "cell_type": "markdown",
   "id": "3833b74a",
   "metadata": {},
   "source": [
    "# KNearestNeighbors"
   ]
  },
  {
   "cell_type": "code",
   "execution_count": 37,
   "id": "2fc29ba7",
   "metadata": {},
   "outputs": [],
   "source": [
    "knn = KNeighborsClassifier(n_neighbors=10).fit(X_train, y_train)"
   ]
  },
  {
   "cell_type": "code",
   "execution_count": 38,
   "id": "4b13deb8",
   "metadata": {},
   "outputs": [
    {
     "data": {
      "text/plain": [
       " 0.0    23585\n",
       " 1.0     6495\n",
       "-1.0     2499\n",
       "dtype: int64"
      ]
     },
     "execution_count": 38,
     "metadata": {},
     "output_type": "execute_result"
    }
   ],
   "source": [
    "knn_pred = pd.Series(knn.predict(X_test))\n",
    "knn_pred.value_counts()"
   ]
  },
  {
   "cell_type": "code",
   "execution_count": 39,
   "id": "fb88ca3d",
   "metadata": {},
   "outputs": [],
   "source": [
    "knn_pred = knn.predict(X_test)"
   ]
  },
  {
   "cell_type": "code",
   "execution_count": 41,
   "id": "c73c91ce",
   "metadata": {},
   "outputs": [
    {
     "name": "stdout",
     "output_type": "stream",
     "text": [
      "Accuracy of model :  0.521317413057491\n",
      "Error rate of the RandomForest 0.478682586942509\n"
     ]
    }
   ],
   "source": [
    "print(\"Accuracy of model : \", accuracy_score(y_test, knn_pred))\n",
    "#Error rate\n",
    "print(\"Error rate of the RandomForest\", 1 - accuracy_score(y_test, knn_pred))"
   ]
  },
  {
   "cell_type": "markdown",
   "id": "61fa75da",
   "metadata": {},
   "source": [
    "# Joblib"
   ]
  },
  {
   "cell_type": "code",
   "execution_count": 40,
   "id": "7ecc5505",
   "metadata": {},
   "outputs": [],
   "source": [
    "import joblib"
   ]
  },
  {
   "cell_type": "code",
   "execution_count": 43,
   "id": "9d313d9a",
   "metadata": {},
   "outputs": [
    {
     "data": {
      "text/plain": [
       "['text_mining.joblib']"
      ]
     },
     "execution_count": 43,
     "metadata": {},
     "output_type": "execute_result"
    }
   ],
   "source": [
    "joblib.dump(clf, 'text_mining.joblib')"
   ]
  },
  {
   "cell_type": "code",
   "execution_count": 44,
   "id": "4d5b4b4b",
   "metadata": {},
   "outputs": [
    {
     "data": {
      "text/plain": [
       "['vectorizer.pkl']"
      ]
     },
     "execution_count": 44,
     "metadata": {},
     "output_type": "execute_result"
    }
   ],
   "source": [
    "joblib.dump(vectorizer, 'vectorizer.pkl')"
   ]
  },
  {
   "cell_type": "code",
   "execution_count": 45,
   "id": "1ec4b0e0",
   "metadata": {},
   "outputs": [
    {
     "data": {
      "text/plain": [
       "['prediction.pkl']"
      ]
     },
     "execution_count": 45,
     "metadata": {},
     "output_type": "execute_result"
    }
   ],
   "source": [
    "joblib.dump(clf, 'prediction.pkl')"
   ]
  },
  {
   "cell_type": "code",
   "execution_count": null,
   "id": "3e10befc",
   "metadata": {},
   "outputs": [],
   "source": []
  }
 ],
 "metadata": {
  "kernelspec": {
   "display_name": "Python 3",
   "language": "python",
   "name": "python3"
  },
  "language_info": {
   "codemirror_mode": {
    "name": "ipython",
    "version": 3
   },
   "file_extension": ".py",
   "mimetype": "text/x-python",
   "name": "python",
   "nbconvert_exporter": "python",
   "pygments_lexer": "ipython3",
   "version": "3.11.1"
  },
  "vscode": {
   "interpreter": {
    "hash": "ead1b95f633dc9c51826328e1846203f51a198c6fb5f2884a80417ba131d4e82"
   }
  }
 },
 "nbformat": 4,
 "nbformat_minor": 5
}
